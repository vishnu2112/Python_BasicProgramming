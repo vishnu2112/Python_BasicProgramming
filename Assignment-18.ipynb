{
 "cells": [
  {
   "cell_type": "markdown",
   "metadata": {},
   "source": [
    "# Q1"
   ]
  },
  {
   "cell_type": "code",
   "execution_count": null,
   "metadata": {},
   "outputs": [],
   "source": [
    "Create a function that takes a list of non-negative integers and strings and return a new list\n",
    "without the strings.\n",
    "Examples\n",
    "filter_list([1, 2, \"a\", \"b\"]) ➞ [1, 2]\n",
    "filter_list([1, \"a\", \"b\", 0, 15]) ➞ [1, 0, 15]\n",
    "filter_list([1, 2, \"aasf\", \"1\", \"123\", 123]) ➞ [1, 2, 123]"
   ]
  },
  {
   "cell_type": "code",
   "execution_count": 5,
   "metadata": {},
   "outputs": [
    {
     "name": "stdout",
     "output_type": "stream",
     "text": [
      "please enter stop when u want to stop the entry into list\n",
      "Enter an element into list:  1\n",
      "Enter an element into list:  2\n",
      "Enter an element into list:  hang\n",
      "Enter an element into list:  king\n",
      "Enter an element into list:  890\n",
      "Enter an element into list:  kill\n",
      "Enter an element into list:  90\n",
      "Enter an element into list:  gun\n",
      "Enter an element into list:  nest\n",
      "Enter an element into list:  stop\n",
      "[1, 2, 890, 90]\n"
     ]
    }
   ],
   "source": [
    "l=[]\n",
    "print(\"please enter stop when u want to stop the entry into list\")\n",
    "while True:\n",
    "    n = input(\"Enter an element into list:  \")\n",
    "    if n==\"stop\":\n",
    "        break\n",
    "    else:\n",
    "        try:\n",
    "            k = int(n)\n",
    "            l.append(k)\n",
    "        except:\n",
    "            l.append(n)\n",
    "            \n",
    "def rem_str(l):\n",
    "    ans=[]\n",
    "    for i in range(0,len(l)):\n",
    "        if type(l[i])==int:\n",
    "            ans.append(l[i])\n",
    "    print(ans)\n",
    "rem_str(l)"
   ]
  },
  {
   "cell_type": "markdown",
   "metadata": {},
   "source": [
    "# Q2"
   ]
  },
  {
   "cell_type": "code",
   "execution_count": null,
   "metadata": {},
   "outputs": [],
   "source": [
    "The \"Reverser\" takes a string as input and returns that string in reverse order, with the\n",
    "opposite case.\n",
    "Examples\n",
    "reverse(\"Hello World\") ➞ \"DLROw OLLEh\"\n",
    "reverse(\"ReVeRsE\") ➞ \"eSrEvEr\"\n",
    "reverse(\"Radar\") ➞ \"RADAr\""
   ]
  },
  {
   "cell_type": "code",
   "execution_count": 8,
   "metadata": {},
   "outputs": [
    {
     "name": "stdout",
     "output_type": "stream",
     "text": [
      "Enter a string: Hello World\n",
      "DLROw OLLEh\n"
     ]
    }
   ],
   "source": [
    "n = input(\"Enter a string: \")\n",
    "def reverser(n):\n",
    "    l=list(n)\n",
    "    l=l[::-1]\n",
    "    for i in range(0,len(l)):\n",
    "        if l[i].islower():\n",
    "            l[i]=l[i].upper()\n",
    "        elif l[i].isupper():\n",
    "            l[i]=l[i].lower()\n",
    "        else:\n",
    "            pass\n",
    "    print(''.join(l))\n",
    "            \n",
    "reverser(n)"
   ]
  },
  {
   "cell_type": "markdown",
   "metadata": {},
   "source": [
    "# Q3"
   ]
  },
  {
   "cell_type": "code",
   "execution_count": null,
   "metadata": {},
   "outputs": [],
   "source": [
    "You can assign variables from lists like this:\n",
    "lst = [1, 2, 3, 4, 5, 6]\n",
    "first = lst[0]\n",
    "middle = lst[1:-1]\n",
    "last = lst[-1]\n",
    "print(first) ➞ outputs 1\n",
    "print(middle) ➞ outputs [2, 3, 4, 5]\n",
    "print(last) ➞ outputs 6\n",
    "With Python 3, you can assign variables from lists in a much more succinct way. Create\n",
    "variables first, middle and last from the given list using destructuring assignment\n",
    "(check the Resources tab for some examples), where:\n",
    "first ➞ 1\n",
    "middle ➞ [2, 3, 4, 5]\n",
    "last ➞ 6\n",
    "Your task is to unpack the list writeyourcodehere into three variables, being first,\n",
    "middle, and last, with middle being everything in between the first and last element. Then\n",
    "print all three variables."
   ]
  },
  {
   "cell_type": "code",
   "execution_count": 1,
   "metadata": {},
   "outputs": [
    {
     "name": "stdout",
     "output_type": "stream",
     "text": [
      "First is:  1\n",
      "Middle is:  [2, 3, 4, 5]\n",
      "Last is:  6\n"
     ]
    }
   ],
   "source": [
    "lst=[1,2,3,4,5,6]\n",
    "first, *middle, last = lst\n",
    "print(\"First is: \",first)\n",
    "print(\"Middle is: \",middle)\n",
    "print(\"Last is: \",last)"
   ]
  },
  {
   "cell_type": "markdown",
   "metadata": {},
   "source": [
    "# Q4"
   ]
  },
  {
   "cell_type": "code",
   "execution_count": null,
   "metadata": {},
   "outputs": [],
   "source": [
    "Write a function that calculates the factorial of a number recursively.\n",
    "Examples\n",
    "factorial(5) ➞ 120\n",
    "factorial(3) ➞ 6\n",
    "factorial(1) ➞ 1\n",
    "factorial(0) ➞ 1"
   ]
  },
  {
   "cell_type": "code",
   "execution_count": 1,
   "metadata": {},
   "outputs": [
    {
     "name": "stdout",
     "output_type": "stream",
     "text": [
      "Enter a number: 5\n"
     ]
    },
    {
     "data": {
      "text/plain": [
       "120"
      ]
     },
     "execution_count": 1,
     "metadata": {},
     "output_type": "execute_result"
    }
   ],
   "source": [
    "n = int(input(\"Enter a number: \"))\n",
    "def factorial(n):\n",
    "    if n==1:\n",
    "        return 1\n",
    "    else:\n",
    "        return n*factorial(n-1)\n",
    "factorial(n)    "
   ]
  },
  {
   "cell_type": "markdown",
   "metadata": {},
   "source": [
    "# Q5"
   ]
  },
  {
   "cell_type": "code",
   "execution_count": null,
   "metadata": {},
   "outputs": [],
   "source": [
    "Write a function that moves all elements of one type to the end of the list.\n",
    "Examples\n",
    "move_to_end([1, 3, 2, 4, 4, 1], 1) ➞ [3, 2, 4, 4, 1, 1]\n",
    "# Move all the 1s to the end of the array.\n",
    "move_to_end([7, 8, 9, 1, 2, 3, 4], 9) ➞ [7, 8, 1, 2, 3, 4, 9]\n",
    "move_to_end([\"a\", \"a\", \"a\", \"b\"], \"a\") ➞ [\"b\", \"a\", \"a\", \"a\";]"
   ]
  },
  {
   "cell_type": "code",
   "execution_count": 10,
   "metadata": {},
   "outputs": [
    {
     "name": "stdout",
     "output_type": "stream",
     "text": [
      "please enter stop when u want to stop the entry into list\n",
      "Enter an element into list:  1\n",
      "Enter an element into list:  2\n",
      "Enter an element into list:  3\n",
      "Enter an element into list:  6\n",
      "Enter an element into list:  h\n",
      "Enter an element into list:  g\n",
      "Enter an element into list:  h\n",
      "Enter an element into list:  9\n",
      "Enter an element into list:  2\n",
      "Enter an element into list:  3\n",
      "Enter an element into list:  stop\n",
      "THe list is    [1, 2, 3, 6, 'h', 'g', 'h', 9, 2, 3]\n",
      "Enter an element: h\n",
      "[1, 2, 3, 6, 'g', 9, 2, 3, 'h', 'h']\n"
     ]
    }
   ],
   "source": [
    "l=[]\n",
    "print(\"please enter stop when u want to stop the entry into list\")\n",
    "while True:\n",
    "    n = input(\"Enter an element into list:  \")\n",
    "    if n==\"stop\":\n",
    "        break\n",
    "    else:\n",
    "        try:\n",
    "            k = int(n)\n",
    "            l.append(k)\n",
    "        except:\n",
    "            l.append(n)\n",
    "print(\"THe list is   \",l)\n",
    "p = input(\"Enter an element: \")\n",
    "try:            \n",
    "    p = int(p)\n",
    "except:\n",
    "    pass\n",
    "\n",
    "def move_end_p(l,p):\n",
    "    count_p=0\n",
    "    ans=[]\n",
    "    for i in range(0,len(l)):\n",
    "        if l[i]==p:\n",
    "            count_p+=1\n",
    "        else:\n",
    "            ans.append(l[i])\n",
    "    for i in range(0,count_p):\n",
    "        ans.append(p)\n",
    "    print(ans)\n",
    "move_end_p(l,p)"
   ]
  }
 ],
 "metadata": {
  "kernelspec": {
   "display_name": "Python 3",
   "language": "python",
   "name": "python3"
  },
  "language_info": {
   "codemirror_mode": {
    "name": "ipython",
    "version": 3
   },
   "file_extension": ".py",
   "mimetype": "text/x-python",
   "name": "python",
   "nbconvert_exporter": "python",
   "pygments_lexer": "ipython3",
   "version": "3.8.3"
  },
  "toc": {
   "base_numbering": 1,
   "nav_menu": {},
   "number_sections": true,
   "sideBar": true,
   "skip_h1_title": false,
   "title_cell": "Table of Contents",
   "title_sidebar": "Contents",
   "toc_cell": false,
   "toc_position": {},
   "toc_section_display": true,
   "toc_window_display": false
  }
 },
 "nbformat": 4,
 "nbformat_minor": 4
}
