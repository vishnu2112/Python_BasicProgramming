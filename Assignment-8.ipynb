{
 "cells": [
  {
   "cell_type": "markdown",
   "metadata": {},
   "source": [
    "# Write a python program to add two matrices?"
   ]
  },
  {
   "cell_type": "code",
   "execution_count": 3,
   "metadata": {},
   "outputs": [
    {
     "name": "stdout",
     "output_type": "stream",
     "text": [
      "Enter no.of rows: 2\n",
      "Enter no.of columns: 3\n",
      "Enter elemnts into the first matrix m1\n",
      "Enter a number: 1\n",
      "Enter a number: 2\n",
      "Enter a number: 3\n",
      "Enter a number: 4\n",
      "Enter a number: 5\n",
      "Enter a number: 6\n",
      "Enter elements into second matrix m2\n",
      "Enter a number: 7\n",
      "Enter a number: 8\n",
      "Enter a number: 9\n",
      "Enter a number: 10\n",
      "Enter a number: 11\n",
      "Enter a number: 12\n",
      "Add two matrix \n",
      "[[8, 10, 12], [14, 16, 18]]\n"
     ]
    }
   ],
   "source": [
    "r = int(input(\"Enter no.of rows: \"))\n",
    "c = int(input(\"Enter no.of columns: \"))\n",
    "def create_matrix(m):\n",
    "    for i in range(0,r):\n",
    "        a=[]\n",
    "        for j in range(0,c):\n",
    "            x=int(input(\"Enter a number: \"))\n",
    "            a.append(x)\n",
    "        m.append(a)\n",
    "def add_matrix(m1,m2):\n",
    "    ans=[]\n",
    "    for i in range(0,r):\n",
    "        k=[]\n",
    "        for j in range(0,c):\n",
    "            k.append(m1[i][j] + m2[i][j])\n",
    "        ans.append(k)\n",
    "    print(ans)\n",
    "    \n",
    "m1=[]\n",
    "print(\"Enter elemnts into the first matrix m1\")\n",
    "create_matrix(m1)\n",
    "m2=[]\n",
    "print(\"Enter elements into second matrix m2\")\n",
    "create_matrix(m2)\n",
    "print(\"Add two matrix \")\n",
    "add_matrix(m1,m2)\n"
   ]
  },
  {
   "cell_type": "markdown",
   "metadata": {},
   "source": [
    "# Write a python program to multiply two matrices?"
   ]
  },
  {
   "cell_type": "code",
   "execution_count": 13,
   "metadata": {},
   "outputs": [
    {
     "name": "stdout",
     "output_type": "stream",
     "text": [
      "Enter no.of rows and columns for first matrix\n",
      "Enter no.of rows: 2\n",
      "Enter no.of columns: 3\n",
      "Enter no.of rows and columns for second matrix\n",
      "Enter no.of rows: 2\n",
      "Enter no.of columns: 3\n",
      "To multiply two matrices, the no.of columns of first matrix should be equal to no.of rows of second matrix. So, please enter again\n",
      "Enter no.of rows and columns for first matrix\n",
      "Enter no.of rows: 2\n",
      "Enter no.of columns: 3\n",
      "Enter no.of rows and columns for second matrix\n",
      "Enter no.of rows: 3\n",
      "Enter no.of columns: 2\n",
      "Enter elemnts into the first matrix m1\n",
      "Enter a number: 1\n",
      "Enter a number: 2\n",
      "Enter a number: 3\n",
      "Enter a number: 4\n",
      "Enter a number: 5\n",
      "Enter a number: 6\n",
      "matrix is  [[1, 2, 3], [4, 5, 6]]\n",
      "Enter elements into second matrix m2\n",
      "Enter a number: 7\n",
      "Enter a number: 8\n",
      "Enter a number: 9\n",
      "Enter a number: 10\n",
      "Enter a number: 11\n",
      "Enter a number: 12\n",
      "matrix is  [[7, 8], [9, 10], [11, 12]]\n",
      "Multiply two matrices \n",
      "[[58, 64], [139, 154]]\n"
     ]
    }
   ],
   "source": [
    "while True:\n",
    "    print(\"Enter no.of rows and columns for first matrix\")\n",
    "    r1 = int(input(\"Enter no.of rows: \"))\n",
    "    c1 = int(input(\"Enter no.of columns: \"))\n",
    "    print(\"Enter no.of rows and columns for second matrix\")\n",
    "    r2 = int(input(\"Enter no.of rows: \"))\n",
    "    c2 = int(input(\"Enter no.of columns: \"))\n",
    "    \n",
    "    if c1==r2:\n",
    "        break\n",
    "    else:\n",
    "        print(\"To multiply two matrices, the no.of columns of first matrix should be equal to no.of rows of second matrix. So, please enter again\")\n",
    "        \n",
    "\n",
    "def create_matrix(m,r,c):\n",
    "    for i in range(0,r):\n",
    "        a=[]\n",
    "        for j in range(0,c):\n",
    "            x=int(input(\"Enter a number: \"))\n",
    "            a.append(x)\n",
    "        m.append(a)\n",
    "    print(\"matrix is \",m)\n",
    "\n",
    "def mul_matrix(m1,m2):\n",
    "    res = [[0 for x in range(r1)]\n",
    "              for y in range (c2)]\n",
    "    \n",
    "    for i in range(0,r1):\n",
    "        for j in range(0,c2):\n",
    "            for k in range(0,c1):\n",
    "                res[i][j]+=m1[i][k]*m2[k][j]\n",
    "    print(res)      \n",
    "                \n",
    "\n",
    "m1=[]\n",
    "print(\"Enter elemnts into the first matrix m1\")\n",
    "create_matrix(m1,r1,c1)\n",
    "m2=[]\n",
    "print(\"Enter elements into second matrix m2\")\n",
    "create_matrix(m2,r2,c2)\n",
    "print(\"Multiply two matrices \")\n",
    "mul_matrix(m1,m2)"
   ]
  },
  {
   "cell_type": "markdown",
   "metadata": {},
   "source": [
    "# Write a python program to transpose a matrix?"
   ]
  },
  {
   "cell_type": "code",
   "execution_count": 14,
   "metadata": {},
   "outputs": [
    {
     "name": "stdout",
     "output_type": "stream",
     "text": [
      "Enter no.of rows: 3\n",
      "Enter no.of columns: 2\n",
      "Enter elements into the matrix m1\n",
      "Enter a number: 1\n",
      "Enter a number: 2\n",
      "Enter a number: 3\n",
      "Enter a number: 4\n",
      "Enter a number: 5\n",
      "Enter a number: 6\n",
      "matrix is  [[1, 2], [3, 4], [5, 6]]\n",
      "Transpose of matrix m1\n",
      "[[1, 3, 5], [2, 4, 6]]\n"
     ]
    }
   ],
   "source": [
    "r = int(input(\"Enter no.of rows: \"))\n",
    "c = int(input(\"Enter no.of columns: \"))\n",
    "def create_matrix(m):\n",
    "    for i in range(0,r):\n",
    "        a=[]\n",
    "        for j in range(0,c):\n",
    "            x=int(input(\"Enter a number: \"))\n",
    "            a.append(x)\n",
    "        m.append(a)\n",
    "    print(\"matrix is \",m)\n",
    "def transpose(A):\n",
    "    T=[]\n",
    "    for j in range(0,c):\n",
    "        a=[]\n",
    "        for i in range(0,r):\n",
    "            a.append(A[i][j])\n",
    "        T.append(a)\n",
    "    print(T)\n",
    "\n",
    "m1=[]\n",
    "print(\"Enter elements into the matrix m1\")\n",
    "create_matrix(m1)\n",
    "print(\"Transpose of matrix m1\")\n",
    "transpose(m1)\n"
   ]
  },
  {
   "cell_type": "markdown",
   "metadata": {},
   "source": [
    "# Write a python program to sort words in alphabetical order?"
   ]
  },
  {
   "cell_type": "code",
   "execution_count": 17,
   "metadata": {},
   "outputs": [
    {
     "name": "stdout",
     "output_type": "stream",
     "text": [
      "Enter a string: I am learning Python, and the learning process is very interesting.\n",
      "words are sorted ['am', 'and', 'i', 'interesting.', 'is', 'learning', 'learning', 'process', 'python,', 'the', 'very']\n"
     ]
    }
   ],
   "source": [
    "str = input(\"Enter a string: \")\n",
    "l=str.split()\n",
    "def sort_words(l):\n",
    "    for i in range(0,len(l)):\n",
    "        l[i] = l[i].lower()\n",
    "    l.sort()\n",
    "    print(\"words are sorted\",l)\n",
    "sort_words(l)\n"
   ]
  },
  {
   "cell_type": "markdown",
   "metadata": {},
   "source": [
    "# Write a python program to remove punctuation from a string?"
   ]
  },
  {
   "cell_type": "code",
   "execution_count": null,
   "metadata": {},
   "outputs": [],
   "source": [
    "str = input(\"Enter a string: \")\n",
    "def rem_punct(str):\n",
    "    punctuations = '''!()-[]{};:'\"\\,<>./?@#$%^&*_~'''\n",
    "    for i in str:\n",
    "        if i in punctuations:\n",
    "            str = str.replace(i,\"\")\n",
    "    print(str)\n",
    "rem_punct(str)"
   ]
  },
  {
   "cell_type": "code",
   "execution_count": null,
   "metadata": {},
   "outputs": [],
   "source": []
  }
 ],
 "metadata": {
  "kernelspec": {
   "display_name": "Python 3",
   "language": "python",
   "name": "python3"
  },
  "language_info": {
   "codemirror_mode": {
    "name": "ipython",
    "version": 3
   },
   "file_extension": ".py",
   "mimetype": "text/x-python",
   "name": "python",
   "nbconvert_exporter": "python",
   "pygments_lexer": "ipython3",
   "version": "3.8.3"
  },
  "toc": {
   "base_numbering": 1,
   "nav_menu": {},
   "number_sections": true,
   "sideBar": true,
   "skip_h1_title": false,
   "title_cell": "Table of Contents",
   "title_sidebar": "Contents",
   "toc_cell": false,
   "toc_position": {},
   "toc_section_display": true,
   "toc_window_display": false
  }
 },
 "nbformat": 4,
 "nbformat_minor": 4
}
