{
 "cells": [
  {
   "cell_type": "markdown",
   "metadata": {},
   "source": [
    "# Q1"
   ]
  },
  {
   "cell_type": "code",
   "execution_count": null,
   "metadata": {},
   "outputs": [],
   "source": [
    "Create a function that takes a list of strings and integers, and filters out the list so that it\n",
    "returns a list of integers only.\n",
    "Examples\n",
    "filter_list([1, 2, 3, \"a\", \"b\", 4]) ➞ [1, 2, 3, 4]\n",
    "filter_list([\"A\", 0, \"Edabit\", 1729,\"Python\", \"1729\"]) ➞ [0, 1729]\n",
    "filter_list([\"Nothing\", \"here\"]) ➞ []"
   ]
  },
  {
   "cell_type": "code",
   "execution_count": 1,
   "metadata": {},
   "outputs": [
    {
     "name": "stdout",
     "output_type": "stream",
     "text": [
      "please enter stop when u want to stop the entry into list\n",
      "Enter an element into list:  1\n",
      "Enter an element into list:  2\n",
      "Enter an element into list:  3\n",
      "Enter an element into list:  a\n",
      "Enter an element into list:  b\n",
      "Enter an element into list:  albert\n",
      "Enter an element into list:  8\n",
      "Enter an element into list:  king\n",
      "Enter an element into list:  stop\n",
      "The list is :  [1, 2, 3, 'a', 'b', 'albert', 8, 'king']\n",
      "[1, 2, 3, 8]\n"
     ]
    }
   ],
   "source": [
    "l=[]\n",
    "print(\"please enter stop when u want to stop the entry into list\")\n",
    "while True:\n",
    "    n = input(\"Enter an element into list:  \")\n",
    "    if n==\"stop\":\n",
    "        break\n",
    "    else:\n",
    "        try:\n",
    "            k = int(n)\n",
    "            l.append(k)\n",
    "        except:\n",
    "            l.append(n)\n",
    "print(\"The list is : \",l)\n",
    "\n",
    "def filter_list(l):\n",
    "    new_l=[]\n",
    "    for i in l:\n",
    "        if type(i)==int:\n",
    "            new_l.append(i)\n",
    "    print(new_l)\n",
    "filter_list(l)"
   ]
  },
  {
   "cell_type": "markdown",
   "metadata": {},
   "source": [
    "# Q2"
   ]
  },
  {
   "cell_type": "code",
   "execution_count": null,
   "metadata": {},
   "outputs": [],
   "source": [
    "Given a list of numbers, create a function which returns the list but with each element's\n",
    "index in the list added to itself. This means you add 0 to the number at index 0, add 1 to the\n",
    "number at index 1, etc...\n",
    "Examples\n",
    "add_indexes([0, 0, 0, 0, 0]) ➞ [0, 1, 2, 3, 4]\n",
    "add_indexes([1, 2, 3, 4, 5]) ➞ [1, 3, 5, 7, 9]\n",
    "add_indexes([5, 4, 3, 2, 1]) ➞ [5, 5, 5, 5, 5]"
   ]
  },
  {
   "cell_type": "code",
   "execution_count": 2,
   "metadata": {},
   "outputs": [
    {
     "name": "stdout",
     "output_type": "stream",
     "text": [
      "[1, 3, 5, 7, 9, 15]\n"
     ]
    }
   ],
   "source": [
    "l=[1,2,3,4,5,10]\n",
    "def add_index(l):\n",
    "    new_l=[]\n",
    "    for i in range(0,len(l)):\n",
    "        new_l.append(l[i]+i)\n",
    "    print(new_l)\n",
    "add_index(l)"
   ]
  },
  {
   "cell_type": "markdown",
   "metadata": {},
   "source": [
    "# Q3"
   ]
  },
  {
   "cell_type": "code",
   "execution_count": null,
   "metadata": {},
   "outputs": [],
   "source": [
    "Create a function that takes the height and radius of a cone as arguments and returns the\n",
    "volume of the cone rounded to the nearest hundredth. See the resources tab for the formula.\n",
    "Examples\n",
    "cone_volume(3, 2) ➞ 12.57\n",
    "cone_volume(15, 6) ➞ 565.49\n",
    "cone_volume(18, 0) ➞ 0"
   ]
  },
  {
   "cell_type": "code",
   "execution_count": 3,
   "metadata": {},
   "outputs": [
    {
     "name": "stdout",
     "output_type": "stream",
     "text": [
      "Enter height of cone: 15\n",
      "Enter radius of cone: 6\n",
      "565.71\n"
     ]
    }
   ],
   "source": [
    "h=float(input(\"Enter height of cone: \"))\n",
    "r=float(input(\"Enter radius of cone: \"))\n",
    "def volume_cone(h,r):\n",
    "    vol= round((22*(r**2)*h)/21,2)\n",
    "    print(vol)\n",
    "volume_cone(h,r)"
   ]
  },
  {
   "cell_type": "markdown",
   "metadata": {},
   "source": [
    "# Q4"
   ]
  },
  {
   "cell_type": "code",
   "execution_count": null,
   "metadata": {},
   "outputs": [],
   "source": [
    "This Triangular Number Sequence is generated from a pattern of dots that form a triangle.\n",
    "The first 5 numbers of the sequence, or dots, are:\n",
    "1, 3, 6, 10, 15\n",
    "This means that the first triangle has just one dot, the second one has three dots, the third one\n",
    "has 6 dots and so on.\n",
    "Write a function that gives the number of dots with its corresponding triangle number of the\n",
    "sequence.\n",
    "Examples\n",
    "triangle(1) ➞ 1\n",
    "triangle(6) ➞ 21\n",
    "triangle(215) ➞ 23220"
   ]
  },
  {
   "cell_type": "code",
   "execution_count": 5,
   "metadata": {},
   "outputs": [
    {
     "name": "stdout",
     "output_type": "stream",
     "text": [
      "Enter a number: 215\n"
     ]
    },
    {
     "data": {
      "text/plain": [
       "23220"
      ]
     },
     "execution_count": 5,
     "metadata": {},
     "output_type": "execute_result"
    }
   ],
   "source": [
    "n = int(input(\"Enter a number: \"))\n",
    "def triangle(n):\n",
    "    sum = int((n*(n+1))/2)\n",
    "    return sum\n",
    "triangle(n)"
   ]
  },
  {
   "cell_type": "markdown",
   "metadata": {},
   "source": [
    "# Q5"
   ]
  },
  {
   "cell_type": "code",
   "execution_count": null,
   "metadata": {},
   "outputs": [],
   "source": [
    "Create a function that takes a list of numbers between 1 and 10 (excluding one number) and\n",
    "returns the missing number.\n",
    "Examples\n",
    "missing_num([1, 2, 3, 4, 6, 7, 8, 9, 10]) ➞ 5\n",
    "missing_num([7, 2, 3, 6, 5, 9, 1, 4, 8]) ➞ 10\n",
    "missing_num([10, 5, 1, 2, 4, 6, 8, 3, 9]) ➞ 7"
   ]
  },
  {
   "cell_type": "code",
   "execution_count": 7,
   "metadata": {},
   "outputs": [
    {
     "data": {
      "text/plain": [
       "10"
      ]
     },
     "execution_count": 7,
     "metadata": {},
     "output_type": "execute_result"
    }
   ],
   "source": [
    "l=[7, 2, 3, 6, 5, 9, 1, 4, 8]\n",
    "def missing_num(l):\n",
    "    s=0\n",
    "    for i in l:\n",
    "        s+=i\n",
    "    sum_10=int((10*11)/2)\n",
    "    return sum_10-s\n",
    "missing_num(l)\n",
    "        "
   ]
  }
 ],
 "metadata": {
  "kernelspec": {
   "display_name": "Python 3",
   "language": "python",
   "name": "python3"
  },
  "language_info": {
   "codemirror_mode": {
    "name": "ipython",
    "version": 3
   },
   "file_extension": ".py",
   "mimetype": "text/x-python",
   "name": "python",
   "nbconvert_exporter": "python",
   "pygments_lexer": "ipython3",
   "version": "3.8.3"
  },
  "toc": {
   "base_numbering": 1,
   "nav_menu": {},
   "number_sections": true,
   "sideBar": true,
   "skip_h1_title": false,
   "title_cell": "Table of Contents",
   "title_sidebar": "Contents",
   "toc_cell": false,
   "toc_position": {},
   "toc_section_display": true,
   "toc_window_display": false
  }
 },
 "nbformat": 4,
 "nbformat_minor": 4
}
