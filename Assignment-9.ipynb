{
 "cells": [
  {
   "cell_type": "markdown",
   "metadata": {},
   "source": [
    "# Write a python program to check if the given number is Disarium number?"
   ]
  },
  {
   "cell_type": "code",
   "execution_count": 9,
   "metadata": {},
   "outputs": [
    {
     "name": "stdout",
     "output_type": "stream",
     "text": [
      "Enter a number: 89\n",
      "89 is a disarium number\n"
     ]
    }
   ],
   "source": [
    "n = int(input(\"Enter a number: \"))\n",
    "def count_digits(n):\n",
    "    s=0\n",
    "    while(n):\n",
    "        n=int(n/10)\n",
    "        s+=1\n",
    "    return s\n",
    "def disarium(n):\n",
    "    l=count_digits(n)\n",
    "    temp=n\n",
    "    d=0\n",
    "    while(n):\n",
    "        r=n%10\n",
    "        d = d + r**l\n",
    "        l-=1\n",
    "        n=int(n/10)\n",
    "    if temp==d:\n",
    "        print(\"{} is a disarium number\".format(temp))\n",
    "    else:\n",
    "         print(\"{} is not a disarium number\".format(temp))\n",
    "\n",
    "disarium(n)"
   ]
  },
  {
   "cell_type": "markdown",
   "metadata": {},
   "source": [
    "# Write a python program to print all disarium numbers betwen 1 and 100?"
   ]
  },
  {
   "cell_type": "code",
   "execution_count": 3,
   "metadata": {},
   "outputs": [
    {
     "name": "stdout",
     "output_type": "stream",
     "text": [
      "[1, 2, 3, 4, 5, 6, 7, 8, 9, 89]\n"
     ]
    }
   ],
   "source": [
    "def count_digits(n):\n",
    "    s=0\n",
    "    while(n):\n",
    "        n=int(n/10)\n",
    "        s+=1\n",
    "    return s\n",
    "def print_disarium():\n",
    "    li=[]\n",
    "    for i in range(1,101):\n",
    "        l=count_digits(i)\n",
    "        temp=i\n",
    "        d=0\n",
    "        while(i):\n",
    "            r=i%10\n",
    "            d = d + r**l\n",
    "            l-=1\n",
    "            i=int(i/10)\n",
    "        if temp==d:\n",
    "            li.append(temp)\n",
    "    print(li)\n",
    "print_disarium()\n",
    "    "
   ]
  },
  {
   "cell_type": "markdown",
   "metadata": {},
   "source": [
    "# Write a python program to check if the given number is happy number?"
   ]
  },
  {
   "cell_type": "code",
   "execution_count": 2,
   "metadata": {},
   "outputs": [
    {
     "name": "stdout",
     "output_type": "stream",
     "text": [
      "Enter a number: 5\n",
      "5 is not a happy number\n"
     ]
    }
   ],
   "source": [
    "n = int(input(\"Enter a number: \"))\n",
    "def square_sum(i):\n",
    "    s=0\n",
    "    while(i):\n",
    "        r=i%10\n",
    "        s=s+r**2\n",
    "        i=int(i/10)\n",
    "    return s\n",
    "def happy_number(n):\n",
    "    temp=n\n",
    "    repeat = set()\n",
    "    flag=1\n",
    "    while(square_sum(n) not in repeat):\n",
    "        sq = square_sum(n)\n",
    "        if sq==1: \n",
    "            return flag\n",
    "        else:\n",
    "            repeat.add(sq)\n",
    "            n=sq\n",
    "    flag=0\n",
    "    return flag\n",
    "\n",
    "l=happy_number(n)\n",
    "if(l):\n",
    "    print(\"{} is a happy number\".format(n))\n",
    "else:\n",
    "    print(\"{} is not a happy number\".format(n))\n",
    "        "
   ]
  },
  {
   "cell_type": "markdown",
   "metadata": {},
   "source": [
    "# Write a python program to print all happy numbers between 1 and 100?"
   ]
  },
  {
   "cell_type": "code",
   "execution_count": 4,
   "metadata": {},
   "outputs": [
    {
     "name": "stdout",
     "output_type": "stream",
     "text": [
      "[1, 7, 10, 13, 19, 23, 28, 31, 32, 44, 49, 68, 70, 79, 82, 86, 91, 94, 97, 100]\n"
     ]
    }
   ],
   "source": [
    "def square_sum(i):\n",
    "    s=0\n",
    "    while(i):\n",
    "        r=i%10\n",
    "        s=s+r**2\n",
    "        i=int(i/10)\n",
    "    return s\n",
    "def happy_number(n):\n",
    "    temp=n\n",
    "    repeat = set()\n",
    "    flag=1\n",
    "    while(square_sum(n) not in repeat):\n",
    "        sq = square_sum(n)\n",
    "        if sq==1: \n",
    "            return flag\n",
    "        else:\n",
    "            repeat.add(sq)\n",
    "            n=sq\n",
    "    flag=0\n",
    "    return flag\n",
    "\n",
    "li=[]\n",
    "for i in range(1,101):\n",
    "    l=happy_number(i)\n",
    "    if l==1:\n",
    "        li.append(i)\n",
    "print(li)"
   ]
  },
  {
   "cell_type": "markdown",
   "metadata": {},
   "source": [
    "# Write a python program to check if the given number is Harshad number?"
   ]
  },
  {
   "cell_type": "code",
   "execution_count": 6,
   "metadata": {},
   "outputs": [
    {
     "name": "stdout",
     "output_type": "stream",
     "text": [
      "Enter a number: 15\n",
      "15 is not a harshad number\n"
     ]
    }
   ],
   "source": [
    "n = int(input(\"Enter a number: \"))\n",
    "def digits_sum(i):\n",
    "    s=0\n",
    "    while(i):\n",
    "        r=i%10\n",
    "        s=s+r\n",
    "        i=int(i/10)\n",
    "    return s\n",
    "def harshad(n):\n",
    "    sum = digits_sum(n)\n",
    "    if n%sum ==0:\n",
    "         print(\"{} is a harshad number\".format(n))\n",
    "    else:\n",
    "        print(\"{} is not a harshad number\".format(n))\n",
    "harshad(n)"
   ]
  },
  {
   "cell_type": "markdown",
   "metadata": {},
   "source": [
    "# Write a python program to print all pronic numbers between 1 and 100?"
   ]
  },
  {
   "cell_type": "code",
   "execution_count": 7,
   "metadata": {},
   "outputs": [
    {
     "name": "stdout",
     "output_type": "stream",
     "text": [
      "[2, 6, 12, 20, 30, 42, 56, 72, 90]\n"
     ]
    }
   ],
   "source": [
    "def print_pronic():\n",
    "    import math\n",
    "    li=[]\n",
    "    for i in range(1,101):\n",
    "        sq = int(math.sqrt(i))\n",
    "        for j in range(1,sq+1):\n",
    "            if j*(j+1)==i:\n",
    "                li.append(i)\n",
    "                break\n",
    "    print(li)\n",
    "print_pronic()\n"
   ]
  }
 ],
 "metadata": {
  "kernelspec": {
   "display_name": "Python 3",
   "language": "python",
   "name": "python3"
  },
  "language_info": {
   "codemirror_mode": {
    "name": "ipython",
    "version": 3
   },
   "file_extension": ".py",
   "mimetype": "text/x-python",
   "name": "python",
   "nbconvert_exporter": "python",
   "pygments_lexer": "ipython3",
   "version": "3.8.3"
  },
  "toc": {
   "base_numbering": 1,
   "nav_menu": {},
   "number_sections": true,
   "sideBar": true,
   "skip_h1_title": false,
   "title_cell": "Table of Contents",
   "title_sidebar": "Contents",
   "toc_cell": false,
   "toc_position": {},
   "toc_section_display": true,
   "toc_window_display": false
  }
 },
 "nbformat": 4,
 "nbformat_minor": 4
}
