{
 "cells": [
  {
   "cell_type": "markdown",
   "metadata": {},
   "source": [
    "# Write a python program to find the factorial of a number?"
   ]
  },
  {
   "cell_type": "code",
   "execution_count": 5,
   "metadata": {},
   "outputs": [
    {
     "name": "stdout",
     "output_type": "stream",
     "text": [
      "Enter a number: -8\n",
      "Please do not enter negative numbers \n",
      "Enter a number: 5\n"
     ]
    },
    {
     "data": {
      "text/plain": [
       "120"
      ]
     },
     "execution_count": 5,
     "metadata": {},
     "output_type": "execute_result"
    }
   ],
   "source": [
    "f=1\n",
    "while f:\n",
    "    n = int(input(\"Enter a number: \"))\n",
    "    if n<0:\n",
    "        print(\"Please do not enter negative numbers \")\n",
    "    else:\n",
    "        f=0\n",
    "        \n",
    "def factorial(n):\n",
    "    if n==0:\n",
    "        return 1\n",
    "    else:\n",
    "        return n*factorial(n-1)\n",
    "factorial(n)"
   ]
  },
  {
   "cell_type": "markdown",
   "metadata": {},
   "source": [
    "# Write a python program to display the multiplication table?"
   ]
  },
  {
   "cell_type": "code",
   "execution_count": 1,
   "metadata": {},
   "outputs": [
    {
     "name": "stdout",
     "output_type": "stream",
     "text": [
      "Enter table number: 10\n",
      "10  x  1  =  10\n",
      "10  x  2  =  20\n",
      "10  x  3  =  30\n",
      "10  x  4  =  40\n",
      "10  x  5  =  50\n",
      "10  x  6  =  60\n",
      "10  x  7  =  70\n",
      "10  x  8  =  80\n",
      "10  x  9  =  90\n",
      "10  x  10  =  100\n"
     ]
    }
   ],
   "source": [
    "n = int(input(\"Enter table number: \"))\n",
    "def mul_table(n):\n",
    "    for i in range(1,11):\n",
    "        print(n,' x ',i,' = ', n*i)\n",
    "mul_table(n)"
   ]
  },
  {
   "cell_type": "markdown",
   "metadata": {},
   "source": [
    "# Write a python program to print fibonacci sequence?"
   ]
  },
  {
   "cell_type": "code",
   "execution_count": 5,
   "metadata": {},
   "outputs": [
    {
     "name": "stdout",
     "output_type": "stream",
     "text": [
      "Enter no.of terms: -4\n",
      "Please enter a Positive number \n",
      "Enter no.of terms: 9\n",
      "fibonacci numbers are  [0, 1, 1, 2, 3, 5, 8, 13, 21]\n"
     ]
    }
   ],
   "source": [
    "f=1\n",
    "while f:\n",
    "    n = int(input(\"Enter no.of terms: \"))\n",
    "    if n>0:\n",
    "        f=0\n",
    "    else:\n",
    "        print(\"Please enter a Positive number \")\n",
    "        \n",
    "\n",
    "\n",
    "def fib(n):\n",
    "    n1 = 0\n",
    "    n2 = 1\n",
    "    l=[]\n",
    "    if n==1:\n",
    "        l.append(n1)\n",
    "    elif n==2:\n",
    "        l.append(n1)\n",
    "        l.append(n2)\n",
    "    else:\n",
    "        l.append(n1)\n",
    "        l.append(n2)\n",
    "        count=2\n",
    "        while(count < n):\n",
    "            count+=1\n",
    "            n3 = n1+n2\n",
    "            l.append(n3)\n",
    "            n1 = n2\n",
    "            n2 = n3\n",
    "    print(\"fibonacci numbers are \",l)\n",
    "            \n",
    "fib(n)\n",
    "\n",
    "    "
   ]
  },
  {
   "cell_type": "markdown",
   "metadata": {},
   "source": [
    "# Write a python program to check Armstrong number?"
   ]
  },
  {
   "cell_type": "code",
   "execution_count": 6,
   "metadata": {},
   "outputs": [
    {
     "name": "stdout",
     "output_type": "stream",
     "text": [
      "Enter a number: 153\n",
      "153 is a Armstrong number\n"
     ]
    }
   ],
   "source": [
    "f=1\n",
    "while f:\n",
    "    n = int(input(\"Enter a number: \"))\n",
    "    if n>0:\n",
    "        f=0\n",
    "    else:\n",
    "        print(\"Please enter a Positive number \")\n",
    "    \n",
    "def check_armstrong(n):\n",
    "    temp =n\n",
    "    l = len(str(n))\n",
    "    new_num = 0\n",
    "    while n:\n",
    "        k = n%10\n",
    "        new_num = new_num + k**l\n",
    "        n=int(n/10)\n",
    "    if new_num == temp:\n",
    "        print(\"{} is a Armstrong number\".format(temp))\n",
    "    else:\n",
    "        print(\"{} is not a Armstrong number\".format(temp))\n",
    "    \n",
    "check_armstrong(n)       \n",
    "        \n"
   ]
  },
  {
   "cell_type": "markdown",
   "metadata": {},
   "source": [
    "# Write a python program to check Armstrong number in an interval?"
   ]
  },
  {
   "cell_type": "code",
   "execution_count": 9,
   "metadata": {},
   "outputs": [
    {
     "name": "stdout",
     "output_type": "stream",
     "text": [
      "Enter lower range value: 100\n",
      "Enter higher range value: 200\n",
      "Armstrong numbers are  [153]\n"
     ]
    }
   ],
   "source": [
    "l = int(input(\"Enter lower range value: \"))\n",
    "h = int(input(\"Enter higher range value: \"))\n",
    "\n",
    "def print_Armstrong(l,h):\n",
    "    li=[]\n",
    "    for i in range(l,h):\n",
    "        temp =i\n",
    "        l = len(str(i))\n",
    "        new_num = 0\n",
    "        while i:\n",
    "            k = i%10\n",
    "            new_num = new_num + k**l\n",
    "            i=int(i/10)\n",
    "        if new_num == temp:\n",
    "            li.append(temp)\n",
    "    print(\"Armstrong numbers are \",li)\n",
    "print_Armstrong(l,h)\n",
    "    \n",
    "        "
   ]
  },
  {
   "cell_type": "markdown",
   "metadata": {},
   "source": [
    "# Write a python program to find the sum of natural numbers?"
   ]
  },
  {
   "cell_type": "code",
   "execution_count": 1,
   "metadata": {},
   "outputs": [
    {
     "name": "stdout",
     "output_type": "stream",
     "text": [
      "Enter no.of numbers: 10\n",
      "sum of 10 natural numbers are  55.0\n"
     ]
    }
   ],
   "source": [
    "n = int(input(\"Enter no.of numbers: \"))\n",
    "def sum_n(n):\n",
    "    sum= (n*(n+1))/2\n",
    "    print(\"sum of {} natural numbers are \".format(n), sum)\n",
    "sum_n(n)\n"
   ]
  }
 ],
 "metadata": {
  "kernelspec": {
   "display_name": "Python 3",
   "language": "python",
   "name": "python3"
  },
  "language_info": {
   "codemirror_mode": {
    "name": "ipython",
    "version": 3
   },
   "file_extension": ".py",
   "mimetype": "text/x-python",
   "name": "python",
   "nbconvert_exporter": "python",
   "pygments_lexer": "ipython3",
   "version": "3.8.3"
  },
  "toc": {
   "base_numbering": 1,
   "nav_menu": {},
   "number_sections": true,
   "sideBar": true,
   "skip_h1_title": false,
   "title_cell": "Table of Contents",
   "title_sidebar": "Contents",
   "toc_cell": false,
   "toc_position": {},
   "toc_section_display": true,
   "toc_window_display": false
  }
 },
 "nbformat": 4,
 "nbformat_minor": 4
}
