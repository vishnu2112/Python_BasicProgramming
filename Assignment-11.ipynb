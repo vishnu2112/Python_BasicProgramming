{
 "cells": [
  {
   "cell_type": "markdown",
   "metadata": {},
   "source": [
    "# Write a Python program to find words which are greater than given length k?"
   ]
  },
  {
   "cell_type": "code",
   "execution_count": 3,
   "metadata": {},
   "outputs": [
    {
     "name": "stdout",
     "output_type": "stream",
     "text": [
      "Enter a string: I am new to programming\n",
      "Enter the length: 5\n",
      "programming\n"
     ]
    }
   ],
   "source": [
    "a = input(\"Enter a string: \")\n",
    "l = a.split()\n",
    "n = int(input(\"Enter the length: \"))\n",
    "for i in range(0,len(l)):\n",
    "    if len(l[i])>n:\n",
    "        print(l[i])"
   ]
  },
  {
   "cell_type": "markdown",
   "metadata": {},
   "source": [
    "# Write a Python program for removing i-th character from a string?"
   ]
  },
  {
   "cell_type": "code",
   "execution_count": 2,
   "metadata": {},
   "outputs": [
    {
     "name": "stdout",
     "output_type": "stream",
     "text": [
      "Enter a string: python#programming\n",
      "Enter the index of character: 6\n",
      "pythonprogramming\n"
     ]
    }
   ],
   "source": [
    "a = input(\"Enter a string: \")\n",
    "n = int(input(\"Enter the index of character: \"))\n",
    "print(a[:n]+a[n+1:])"
   ]
  },
  {
   "cell_type": "markdown",
   "metadata": {},
   "source": [
    "# Write a Python program to split and join a string?"
   ]
  },
  {
   "cell_type": "code",
   "execution_count": 4,
   "metadata": {},
   "outputs": [
    {
     "name": "stdout",
     "output_type": "stream",
     "text": [
      "Enter a string: How#are#you\n",
      "split a string # as delimeter  ['How', 'are', 'you']\n",
      "join a string # as delimeter  How#are#you\n"
     ]
    }
   ],
   "source": [
    "a = input(\"Enter a string: \")\n",
    "l=a.split('#')\n",
    "print(\"split a string # as delimeter \",l)\n",
    "s='#'.join(l)\n",
    "print(\"join a string # as delimeter \",s)"
   ]
  },
  {
   "cell_type": "markdown",
   "metadata": {},
   "source": [
    "# Write a Python to check if a given string is binary string or not?"
   ]
  },
  {
   "cell_type": "code",
   "execution_count": 1,
   "metadata": {},
   "outputs": [
    {
     "name": "stdout",
     "output_type": "stream",
     "text": [
      "Enter a string: 1011001001111\n",
      "1011001001111 is a binary string\n"
     ]
    }
   ],
   "source": [
    "a = input(\"Enter a string: \")\n",
    "\n",
    "def check_binary(a):\n",
    "    b = {'0','1'}\n",
    "    s = set(a)\n",
    "    if s==b or s=={'0'}or s=={'1'}:\n",
    "        print(\"{} is a binary string\".format(a))\n",
    "    else:\n",
    "        print(\"{} is not a binary string\".format(a))\n",
    "check_binary(a)"
   ]
  },
  {
   "cell_type": "markdown",
   "metadata": {},
   "source": [
    "# Write a Python program to find uncommon words from two Strings?"
   ]
  },
  {
   "cell_type": "code",
   "execution_count": 2,
   "metadata": {},
   "outputs": [
    {
     "name": "stdout",
     "output_type": "stream",
     "text": [
      "Enter a string: abbghyuifdjk\n",
      "Enter a string: abnhmloipycbh\n",
      "g\n",
      "f\n",
      "u\n",
      "d\n",
      "j\n",
      "k\n",
      "o\n",
      "p\n",
      "n\n",
      "m\n",
      "c\n",
      "l\n"
     ]
    }
   ],
   "source": [
    "a1 =input(\"Enter a string: \")\n",
    "a2 = input(\"Enter a string: \")\n",
    "\n",
    "def diff(a1,a2):\n",
    "    s1 = set(a1)\n",
    "    s2 = set(a2)\n",
    "    for i in s1:\n",
    "        if i not in s2:\n",
    "            print(i)\n",
    "    for j in s2:\n",
    "        if j not in s1:\n",
    "            print(j)\n",
    "diff(a1,a2)"
   ]
  },
  {
   "cell_type": "markdown",
   "metadata": {},
   "source": [
    "# Write a Python to find all duplicate characters in string?"
   ]
  },
  {
   "cell_type": "code",
   "execution_count": 5,
   "metadata": {},
   "outputs": [
    {
     "name": "stdout",
     "output_type": "stream",
     "text": [
      "Enter a string: abbvgghyjghyujkiidfflk\n",
      "i\n",
      "h\n",
      "g\n",
      "f\n",
      "b\n",
      "y\n",
      "j\n",
      "k\n"
     ]
    }
   ],
   "source": [
    "a1 =input(\"Enter a string: \")\n",
    "\n",
    "def duplicate(a1):\n",
    "    s=set(a1)\n",
    "    for i in s:\n",
    "        if a1.count(i)>1:\n",
    "            print(i)\n",
    "duplicate(a1)"
   ]
  },
  {
   "cell_type": "markdown",
   "metadata": {},
   "source": [
    "# Write a Python Program to check if a string contains any special character?"
   ]
  },
  {
   "cell_type": "code",
   "execution_count": 8,
   "metadata": {},
   "outputs": [
    {
     "name": "stdout",
     "output_type": "stream",
     "text": [
      "Enter a string: dfg^%uij(&ftdg$\n",
      "dfg^%uij(&ftdg$ has special characters\n"
     ]
    }
   ],
   "source": [
    "a1 = input(\"Enter a string: \")\n",
    "def check_special_cha(a1):\n",
    "    import re\n",
    "    regex = re.compile('[@_!#$%^&*()<>?/\\|}{~:]') \n",
    "    if(regex.search(a1) == None): \n",
    "        print(\"{} has no special characters\".format(a1))\n",
    "    else:\n",
    "        print(\"{} has special characters\".format(a1))\n",
    "check_special_cha(a1)"
   ]
  }
 ],
 "metadata": {
  "kernelspec": {
   "display_name": "Python 3",
   "language": "python",
   "name": "python3"
  },
  "language_info": {
   "codemirror_mode": {
    "name": "ipython",
    "version": 3
   },
   "file_extension": ".py",
   "mimetype": "text/x-python",
   "name": "python",
   "nbconvert_exporter": "python",
   "pygments_lexer": "ipython3",
   "version": "3.8.3"
  },
  "toc": {
   "base_numbering": 1,
   "nav_menu": {},
   "number_sections": true,
   "sideBar": true,
   "skip_h1_title": false,
   "title_cell": "Table of Contents",
   "title_sidebar": "Contents",
   "toc_cell": false,
   "toc_position": {},
   "toc_section_display": true,
   "toc_window_display": false
  }
 },
 "nbformat": 4,
 "nbformat_minor": 4
}
