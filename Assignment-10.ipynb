{
 "cells": [
  {
   "cell_type": "markdown",
   "metadata": {},
   "source": [
    "# Write a python program to find the sum of elements in a list"
   ]
  },
  {
   "cell_type": "code",
   "execution_count": 2,
   "metadata": {},
   "outputs": [
    {
     "name": "stdout",
     "output_type": "stream",
     "text": [
      "456\n"
     ]
    }
   ],
   "source": [
    "l=[1,2,3,4,5,6,78,90,267]\n",
    "def sum(l):\n",
    "    s=0\n",
    "    for i in l:\n",
    "        s=s+i\n",
    "    print(s)\n",
    "sum(l)    "
   ]
  },
  {
   "cell_type": "markdown",
   "metadata": {},
   "source": [
    "# Write a python program to multiply all numbers in a list"
   ]
  },
  {
   "cell_type": "code",
   "execution_count": 3,
   "metadata": {},
   "outputs": [
    {
     "name": "stdout",
     "output_type": "stream",
     "text": [
      "1349524800\n"
     ]
    }
   ],
   "source": [
    "l=[1,2,3,4,5,6,78,90,267]\n",
    "def multiply(l):\n",
    "    j=1\n",
    "    for i in l:\n",
    "        j=j*i\n",
    "    print(j)\n",
    "multiply(l)"
   ]
  },
  {
   "cell_type": "markdown",
   "metadata": {},
   "source": [
    "# Write a python program to find smallest number in a list"
   ]
  },
  {
   "cell_type": "code",
   "execution_count": 4,
   "metadata": {},
   "outputs": [
    {
     "name": "stdout",
     "output_type": "stream",
     "text": [
      "3\n"
     ]
    }
   ],
   "source": [
    "l=[101,21,3,4,50,6,78,90,267]\n",
    "def small(l):\n",
    "    sm=l[0]\n",
    "    for i in range(1,len(l)):\n",
    "        if l[i]<=sm:\n",
    "            sm=l[i]\n",
    "    print(sm)\n",
    "small(l)"
   ]
  },
  {
   "cell_type": "markdown",
   "metadata": {},
   "source": [
    "# Write a python program to find largest number in a list"
   ]
  },
  {
   "cell_type": "code",
   "execution_count": 6,
   "metadata": {},
   "outputs": [
    {
     "name": "stdout",
     "output_type": "stream",
     "text": [
      "990\n"
     ]
    }
   ],
   "source": [
    "l=[101,21,3,4,50,6,78,990,267]\n",
    "def large(l):\n",
    "    lg=l[0]\n",
    "    for i in range(1,len(l)):\n",
    "        if l[i]>=lg:\n",
    "            lg=l[i]\n",
    "    print(lg)\n",
    "large(l)"
   ]
  },
  {
   "cell_type": "markdown",
   "metadata": {},
   "source": [
    "# Write a python program to find second largest number in a list"
   ]
  },
  {
   "cell_type": "code",
   "execution_count": 8,
   "metadata": {},
   "outputs": [
    {
     "name": "stdout",
     "output_type": "stream",
     "text": [
      "267\n"
     ]
    }
   ],
   "source": [
    "l=[101,21,3,4,50,6,78,990,267]\n",
    "def large(l):\n",
    "    first_large=l[0]\n",
    "    second_large=l[0]\n",
    "    for i in range(1,len(l)):\n",
    "        if l[i]>second_large:\n",
    "            if l[i]>=first_large:\n",
    "                second_large=first_large\n",
    "                first_large=l[i]\n",
    "            else:\n",
    "                second_large=l[i]\n",
    "                \n",
    "    print(second_large)\n",
    "large(l)"
   ]
  },
  {
   "cell_type": "markdown",
   "metadata": {},
   "source": [
    "# Write a python program to find N largest elements from a list"
   ]
  },
  {
   "cell_type": "code",
   "execution_count": 9,
   "metadata": {},
   "outputs": [
    {
     "name": "stdout",
     "output_type": "stream",
     "text": [
      "Enter a number: 5\n",
      "[990, 267, 101, 78, 50]\n"
     ]
    }
   ],
   "source": [
    "l=[101,21,3,4,50,6,78,990,267]\n",
    "while True:\n",
    "    n=int(input(\"Enter a number: \"))\n",
    "    if n>len(l):\n",
    "        print(\"please enter the index number less than the size of list\")\n",
    "    else:\n",
    "        break\n",
    "def n_large(n,l):\n",
    "    l.sort(reverse=True)\n",
    "    print(l[0:n])\n",
    "n_large(n,l)\n",
    "    "
   ]
  },
  {
   "cell_type": "markdown",
   "metadata": {},
   "source": [
    "# Write a python program to print even numbers in a list"
   ]
  },
  {
   "cell_type": "code",
   "execution_count": 10,
   "metadata": {},
   "outputs": [
    {
     "name": "stdout",
     "output_type": "stream",
     "text": [
      "[4, 50, 6, 78, 990]\n"
     ]
    }
   ],
   "source": [
    "l=[101,21,3,4,50,6,78,990,267]\n",
    "\n",
    "def even(l):\n",
    "    even_list=[]\n",
    "    for i in l:\n",
    "        if i%2==0:\n",
    "            even_list.append(i)\n",
    "    print(even_list)\n",
    "even(l)"
   ]
  },
  {
   "cell_type": "markdown",
   "metadata": {},
   "source": [
    "# Write a python program to print odd numbers in a list"
   ]
  },
  {
   "cell_type": "code",
   "execution_count": 11,
   "metadata": {},
   "outputs": [
    {
     "name": "stdout",
     "output_type": "stream",
     "text": [
      "[101, 21, 3, 267]\n"
     ]
    }
   ],
   "source": [
    "l=[101,21,3,4,50,6,78,990,267]\n",
    "\n",
    "def odd(l):\n",
    "    odd_list=[]\n",
    "    for i in l:\n",
    "        if i%2!=0:\n",
    "            odd_list.append(i)\n",
    "    print(odd_list)\n",
    "odd(l)"
   ]
  },
  {
   "cell_type": "code",
   "execution_count": 12,
   "metadata": {},
   "outputs": [
    {
     "name": "stdout",
     "output_type": "stream",
     "text": [
      "<class 'list'>\n"
     ]
    }
   ],
   "source": [
    "print(type(l))"
   ]
  },
  {
   "cell_type": "markdown",
   "metadata": {},
   "source": [
    "# Write a python program to remove empty list from a list"
   ]
  },
  {
   "cell_type": "code",
   "execution_count": 6,
   "metadata": {},
   "outputs": [
    {
     "name": "stdout",
     "output_type": "stream",
     "text": [
      "[1, 4, 6, [4, 7, 9, 10], ['fg', 'hujk'], 'pop', 'juikh', 789]\n"
     ]
    }
   ],
   "source": [
    "l=[1,4,6,[4,7,9,10],['fg','hujk'],[],'pop',[],'juikh',[],[],789]\n",
    "\n",
    "def rem_emptylist(l):\n",
    "    not_empty=[]\n",
    "    for i in range(0,len(l)):\n",
    "        if type(l[i])==list:\n",
    "            if len(l[i])==0:\n",
    "                 pass\n",
    "            else:\n",
    "                not_empty.append(l[i])\n",
    "        else:\n",
    "            not_empty.append(l[i])\n",
    "    \n",
    "    print(not_empty)\n",
    "rem_emptylist(l)"
   ]
  },
  {
   "cell_type": "markdown",
   "metadata": {},
   "source": [
    "# Write a python program to cloning or copying a list"
   ]
  },
  {
   "cell_type": "code",
   "execution_count": 52,
   "metadata": {},
   "outputs": [
    {
     "name": "stdout",
     "output_type": "stream",
     "text": [
      "[4, 5, 6, 4, 5, 6, 4, 4, 4, 8, 9, 0]\n"
     ]
    }
   ],
   "source": [
    "l=[4,5,6,4,5,6,4,4,4,8,9,0]\n",
    "def clone(l):\n",
    "    l2 = []\n",
    "    l2 = l.copy()\n",
    "    print(l2)\n",
    "clone(l)"
   ]
  },
  {
   "cell_type": "markdown",
   "metadata": {},
   "source": [
    "# Write a python program to count occurences of an element in a list"
   ]
  },
  {
   "cell_type": "code",
   "execution_count": 49,
   "metadata": {},
   "outputs": [
    {
     "name": "stdout",
     "output_type": "stream",
     "text": [
      "enter a number: 4\n",
      "5\n"
     ]
    }
   ],
   "source": [
    "l=[4,5,6,4,5,6,4,4,4,8,9,0]\n",
    "n=int(input(\"enter a number: \"))\n",
    "def count(l,n):\n",
    "    occ = l.count(n)\n",
    "    print(occ)\n",
    "count(l,n)"
   ]
  }
 ],
 "metadata": {
  "kernelspec": {
   "display_name": "Python 3",
   "language": "python",
   "name": "python3"
  },
  "language_info": {
   "codemirror_mode": {
    "name": "ipython",
    "version": 3
   },
   "file_extension": ".py",
   "mimetype": "text/x-python",
   "name": "python",
   "nbconvert_exporter": "python",
   "pygments_lexer": "ipython3",
   "version": "3.8.3"
  },
  "toc": {
   "base_numbering": 1,
   "nav_menu": {},
   "number_sections": true,
   "sideBar": true,
   "skip_h1_title": false,
   "title_cell": "Table of Contents",
   "title_sidebar": "Contents",
   "toc_cell": false,
   "toc_position": {},
   "toc_section_display": true,
   "toc_window_display": false
  }
 },
 "nbformat": 4,
 "nbformat_minor": 4
}
