{
 "cells": [
  {
   "cell_type": "markdown",
   "metadata": {},
   "source": [
    "# Write a python program to convert kilometers to miles"
   ]
  },
  {
   "cell_type": "code",
   "execution_count": 15,
   "metadata": {},
   "outputs": [
    {
     "name": "stdout",
     "output_type": "stream",
     "text": [
      "Enter how many kilometers: 7.2\n",
      "no of miles =  4.48683\n"
     ]
    }
   ],
   "source": [
    "k = float(input(\"Enter how many kilometers: \"))\n",
    "# 1 km = 0.621371 miles\n",
    "def kilometer_to_mile(a):\n",
    "    m = 0.623171\n",
    "    print(\"no of miles = \",round(a*m, 5))\n",
    "kilometer_to_mile(k)"
   ]
  },
  {
   "cell_type": "markdown",
   "metadata": {},
   "source": [
    "# Write a python program to convert celsius to Fahrenheit?"
   ]
  },
  {
   "cell_type": "code",
   "execution_count": 17,
   "metadata": {},
   "outputs": [
    {
     "name": "stdout",
     "output_type": "stream",
     "text": [
      "Enter how many Celsius: 78\n",
      "78.0 Celsius is equal to 172.4 Fahrenheit\n"
     ]
    }
   ],
   "source": [
    "c = float(input(\"Enter how many Celsius: \"))\n",
    "def cel_to_Fahr(c):\n",
    "    f = c*1.8 + 32\n",
    "    print('{} Celsius is equal to {} Fahrenheit'.format(c,f))\n",
    "cel_to_Fahr(c)"
   ]
  },
  {
   "cell_type": "markdown",
   "metadata": {},
   "source": [
    "# Write a program to display calendar?"
   ]
  },
  {
   "cell_type": "code",
   "execution_count": 3,
   "metadata": {},
   "outputs": [
    {
     "name": "stdout",
     "output_type": "stream",
     "text": [
      "Enter year: 2000\n",
      "Enter month: 5\n",
      "      May 2000\n",
      "Mo Tu We Th Fr Sa Su\n",
      " 1  2  3  4  5  6  7\n",
      " 8  9 10 11 12 13 14\n",
      "15 16 17 18 19 20 21\n",
      "22 23 24 25 26 27 28\n",
      "29 30 31\n",
      "\n"
     ]
    }
   ],
   "source": [
    "import calendar\n",
    "y = int(input(\"Enter year: \"))\n",
    "m = int(input(\"Enter month: \"))\n",
    "def cal(y,m):\n",
    "    print(calendar.month(y,m))\n",
    "cal(y,m)\n"
   ]
  },
  {
   "cell_type": "markdown",
   "metadata": {},
   "source": [
    "# Write a program to solve quadratic equation?"
   ]
  },
  {
   "cell_type": "code",
   "execution_count": 12,
   "metadata": {},
   "outputs": [
    {
     "name": "stdout",
     "output_type": "stream",
     "text": [
      "Enter x^2 coefficient: 1\n",
      "Enter x coefficient: -5\n",
      "Enter constant: 6\n",
      "real roots\n",
      "the roots are 3.0 2.0\n"
     ]
    }
   ],
   "source": [
    "flag = 1\n",
    "while(flag):\n",
    "    a = float(input(\"Enter x^2 coefficient: \"))\n",
    "    if a==0:\n",
    "        print(\"Please enter correct value for a, enter a any number except zero\")\n",
    "    else:\n",
    "        flag=0\n",
    "        \n",
    "b = float(input(\"Enter x coefficient: \"))\n",
    "c = float(input(\"Enter constant: \"))\n",
    "import math\n",
    "def roots(a,b,c):\n",
    "    d = b**2- 4*a*c\n",
    "    g=2*a\n",
    "    if d>=0:\n",
    "        r1 = (-b + math.sqrt(d))/g\n",
    "        r2 = (-b - math.sqrt(d))/g\n",
    "        print(\"real roots\")\n",
    "        print(\"the roots are {} {}\".format(r1,r2))\n",
    "    else:\n",
    "        print(\"complex roots\")\n",
    "        g = 2*a\n",
    "        r1 = str(round((-b/g),3))+\" +i\"+str(round((abs(d)/g),3))\n",
    "        r2 = str(round((-b/g),3))+\" -i\"+str(round((abs(d)/g),3))\n",
    "        print(\"the roots are {} {}\".format(r1,r2))\n",
    "roots(a,b,c)\n",
    "    "
   ]
  },
  {
   "cell_type": "markdown",
   "metadata": {},
   "source": [
    "# Write a python program to swap two variables without temp variable?"
   ]
  },
  {
   "cell_type": "code",
   "execution_count": 14,
   "metadata": {},
   "outputs": [
    {
     "name": "stdout",
     "output_type": "stream",
     "text": [
      "enter a number: 4\n",
      "Enter a number: 5\n",
      "a is 5 and b is 4\n"
     ]
    }
   ],
   "source": [
    "a = int(input(\"enter a number: \"))\n",
    "b=int(input(\"Enter a number: \"))\n",
    "def swap(a,b):\n",
    "    a = a+b\n",
    "    b=a-b\n",
    "    a=a-b\n",
    "    print('a is {} and b is {}'.format(a,b))\n",
    "swap(a,b)"
   ]
  }
 ],
 "metadata": {
  "kernelspec": {
   "display_name": "Python 3",
   "language": "python",
   "name": "python3"
  },
  "language_info": {
   "codemirror_mode": {
    "name": "ipython",
    "version": 3
   },
   "file_extension": ".py",
   "mimetype": "text/x-python",
   "name": "python",
   "nbconvert_exporter": "python",
   "pygments_lexer": "ipython3",
   "version": "3.8.3"
  },
  "toc": {
   "base_numbering": 1,
   "nav_menu": {},
   "number_sections": true,
   "sideBar": true,
   "skip_h1_title": false,
   "title_cell": "Table of Contents",
   "title_sidebar": "Contents",
   "toc_cell": false,
   "toc_position": {},
   "toc_section_display": true,
   "toc_window_display": false
  }
 },
 "nbformat": 4,
 "nbformat_minor": 4
}
