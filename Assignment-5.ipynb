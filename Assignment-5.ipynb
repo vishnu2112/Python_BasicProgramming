{
 "cells": [
  {
   "cell_type": "markdown",
   "metadata": {},
   "source": [
    "# Write a python program to find LCM?"
   ]
  },
  {
   "cell_type": "code",
   "execution_count": 6,
   "metadata": {},
   "outputs": [
    {
     "name": "stdout",
     "output_type": "stream",
     "text": [
      "Enter a number: 5\n",
      "Enter a number: 4\n",
      "LCM of 5 and 4 is  20\n"
     ]
    }
   ],
   "source": [
    "a1 = int(input(\"Enter a number: \"))\n",
    "a2 = int(input(\"Enter a number: \"))\n",
    "def lcm(a1,a2):\n",
    "    h = a1>=a2 and a1 or a2\n",
    "    f=1\n",
    "    while(f):\n",
    "        if h%a1==0 and h%a2==0:\n",
    "            print(\"LCM of {} and {} is \".format(a1,a2), h)\n",
    "            f=0\n",
    "        else:\n",
    "            h+=1\n",
    "lcm(a1,a2)\n",
    "            "
   ]
  },
  {
   "cell_type": "markdown",
   "metadata": {},
   "source": [
    "# Write a python program to find HCF?"
   ]
  },
  {
   "cell_type": "code",
   "execution_count": 13,
   "metadata": {},
   "outputs": [
    {
     "name": "stdout",
     "output_type": "stream",
     "text": [
      "Enter a number: 852\n",
      "Enter a number: 1065\n",
      "213\n"
     ]
    }
   ],
   "source": [
    "a1 = int(input(\"Enter a number: \"))\n",
    "a2 = int(input(\"Enter a number: \"))\n",
    "\n",
    "def hcf(a1,a2):\n",
    "    h = a1>=a2 and a1 or a2\n",
    "    if h!=a1:\n",
    "        temp = a1\n",
    "        a1=a2\n",
    "        a2=temp\n",
    "    # let a1 is dividend and a2 is quotient\n",
    "    while(a2):\n",
    "        t=a1\n",
    "        a1=a2\n",
    "        a2 = t%a2\n",
    "    print(a1)\n",
    "hcf(a1,a2)\n",
    "        \n",
    "    "
   ]
  },
  {
   "cell_type": "markdown",
   "metadata": {},
   "source": [
    "# Write a python program to convert decimal to Binary, Octal and Hexadecimal?"
   ]
  },
  {
   "cell_type": "code",
   "execution_count": 25,
   "metadata": {},
   "outputs": [
    {
     "name": "stdout",
     "output_type": "stream",
     "text": [
      "Enter a decimal number: 1987\n",
      "Binary value of decimal 1987 is  11111000011\n",
      "Octal value of decimal 1987 is  3703\n",
      "Hexa value of decimal 1987 is  7C3\n"
     ]
    }
   ],
   "source": [
    "a = int(input(\"Enter a decimal number: \"))\n",
    "\n",
    "\n",
    "def dec_to_Binary(a):\n",
    "    dec=a\n",
    "    binary=0\n",
    "    c=0\n",
    "    while(a):\n",
    "        binary +=(a%2)* 10**c\n",
    "        c+=1\n",
    "        a = int(a/2)\n",
    "    print(\"Binary value of decimal {} is \".format(dec),binary)\n",
    "    \n",
    "        \n",
    "def dec_to_Octal(a):\n",
    "    dec=a\n",
    "    octal=0\n",
    "    c=0\n",
    "    while(a):\n",
    "        octal += (a%8)* 10**c\n",
    "        c+=1\n",
    "        a=int(a/8)\n",
    "    print(\"Octal value of decimal {} is \".format(dec),octal)\n",
    "    \n",
    "    \n",
    "def dec_to_Hexa(a):\n",
    "    dec=a\n",
    "    l=[0,1,2,3,4,5,6,7,8,9,'A','B','C','D','E','F']\n",
    "    l1=[]\n",
    "    while(a):\n",
    "        r=a%16\n",
    "        l1.append(l[r])\n",
    "        a=int(a/16)\n",
    "    l1=l1[::-1]\n",
    "    count=0\n",
    "    size=len(l1)\n",
    "    for i in l1:\n",
    "        if type(i)==int:\n",
    "            i=str(i)\n",
    "            if count==0:\n",
    "                s=i\n",
    "                count+=1\n",
    "            else:\n",
    "                s = s+i\n",
    "                count+=1\n",
    "        else:\n",
    "            if count==0:\n",
    "                s=i\n",
    "                count+=1\n",
    "            else:\n",
    "                s=s+i\n",
    "                count+=1\n",
    "        if count==size:\n",
    "            print(\"Hexa value of decimal {} is \".format(dec),s)\n",
    "    \n",
    "dec_to_Binary(a) \n",
    "dec_to_Octal(a)\n",
    "dec_to_Hexa(a)"
   ]
  },
  {
   "cell_type": "markdown",
   "metadata": {},
   "source": [
    "# Write a python program to find ASCII value of a character?"
   ]
  },
  {
   "cell_type": "code",
   "execution_count": 29,
   "metadata": {},
   "outputs": [
    {
     "name": "stdout",
     "output_type": "stream",
     "text": [
      "Enter a character: 56\n",
      "please enter a character of size one. \n",
      "Enter a character: G\n",
      "The ASCII value of character G is  71\n"
     ]
    }
   ],
   "source": [
    "f=1\n",
    "while(f):\n",
    "    ch = input(\"Enter a character: \")\n",
    "    size = len(ch)\n",
    "    if size!=1:\n",
    "        print(\"please enter a character of size one. \")\n",
    "    else:\n",
    "        f=0\n",
    "def chr_to_ascii(ch):\n",
    "    # ord() is used to convert character to ascii\n",
    "    print(\"The ASCII value of character {} is \".format(ch), ord(ch))\n",
    "chr_to_ascii(ch)"
   ]
  },
  {
   "cell_type": "markdown",
   "metadata": {},
   "source": [
    "# Write a python program to make a simple calculator with 4 basic mathematical operations?\n"
   ]
  },
  {
   "cell_type": "code",
   "execution_count": 1,
   "metadata": {},
   "outputs": [
    {
     "name": "stdout",
     "output_type": "stream",
     "text": [
      "Enter a number: 55\n",
      "Enter a number: 5\n",
      "Addition of 55 and 5 is  60\n",
      "Subtraction of 55 and 5 is  50\n",
      "Multiplication of 55 and 5 is  275\n",
      "Division of 55 and 5 is  11.0\n"
     ]
    }
   ],
   "source": [
    "a = int(input(\"Enter a number: \"))\n",
    "b = int(input(\"Enter a number: \"))\n",
    "\n",
    "def add(a,b):\n",
    "    print(\"Addition of {} and {} is \".format(a,b), a+b)\n",
    "def sub(a,b):\n",
    "    print(\"Subtraction of {} and {} is \".format(a,b), a-b)\n",
    "def Mul(a,b):\n",
    "    print(\"Multiplication of {} and {} is \".format(a,b), a*b)\n",
    "def Div(a,b):\n",
    "    print(\"Division of {} and {} is \".format(a,b), a/b)\n",
    "def calculator(a,b):\n",
    "    add(a,b)\n",
    "    sub(a,b)\n",
    "    Mul(a,b)\n",
    "    Div(a,b)\n",
    "calculator(a,b)\n"
   ]
  }
 ],
 "metadata": {
  "kernelspec": {
   "display_name": "Python 3",
   "language": "python",
   "name": "python3"
  },
  "language_info": {
   "codemirror_mode": {
    "name": "ipython",
    "version": 3
   },
   "file_extension": ".py",
   "mimetype": "text/x-python",
   "name": "python",
   "nbconvert_exporter": "python",
   "pygments_lexer": "ipython3",
   "version": "3.8.3"
  },
  "toc": {
   "base_numbering": 1,
   "nav_menu": {},
   "number_sections": true,
   "sideBar": true,
   "skip_h1_title": false,
   "title_cell": "Table of Contents",
   "title_sidebar": "Contents",
   "toc_cell": false,
   "toc_position": {},
   "toc_section_display": true,
   "toc_window_display": false
  }
 },
 "nbformat": 4,
 "nbformat_minor": 4
}
