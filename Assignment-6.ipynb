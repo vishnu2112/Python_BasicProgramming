{
 "cells": [
  {
   "cell_type": "markdown",
   "metadata": {},
   "source": [
    "# Write a python program to display fibonacci sequence using recursion?"
   ]
  },
  {
   "cell_type": "code",
   "execution_count": 2,
   "metadata": {},
   "outputs": [
    {
     "name": "stdout",
     "output_type": "stream",
     "text": [
      "Enter no.of terms: -1\n",
      "Please enter a Positive number \n",
      "Enter no.of terms: 8\n",
      "0\n",
      "1\n",
      "1\n",
      "2\n",
      "3\n",
      "5\n",
      "8\n",
      "13\n"
     ]
    }
   ],
   "source": [
    "f=1\n",
    "while f:\n",
    "    n = int(input(\"Enter no.of terms: \"))\n",
    "    if n>0:\n",
    "        f=0\n",
    "    else:\n",
    "        print(\"Please enter a Positive number \")\n",
    "\n",
    "def fib(i):\n",
    "    if i==0:\n",
    "        return 0\n",
    "    elif i==1:\n",
    "        return 1\n",
    "    else:\n",
    "        return fib(i-1)+fib(i-2)\n",
    "def fib_seq(n):\n",
    "    for i in range(0,n):\n",
    "        print(fib(i))\n",
    "fib_seq(n)"
   ]
  },
  {
   "cell_type": "markdown",
   "metadata": {},
   "source": [
    "# Write a python program to find factorial of a number using recursion?"
   ]
  },
  {
   "cell_type": "code",
   "execution_count": 3,
   "metadata": {},
   "outputs": [
    {
     "name": "stdout",
     "output_type": "stream",
     "text": [
      "Enter a number: -9\n",
      "Please do not enter negative numbers \n",
      "Enter a number: 9\n"
     ]
    },
    {
     "data": {
      "text/plain": [
       "362880"
      ]
     },
     "execution_count": 3,
     "metadata": {},
     "output_type": "execute_result"
    }
   ],
   "source": [
    "f=1\n",
    "while f:\n",
    "    n = int(input(\"Enter a number: \"))\n",
    "    if n<0:\n",
    "        print(\"Please do not enter negative numbers \")\n",
    "    else:\n",
    "        f=0\n",
    "        \n",
    "def factorial(n):\n",
    "    if n==0:\n",
    "        return 1\n",
    "    else:\n",
    "        return n*factorial(n-1)\n",
    "factorial(n)"
   ]
  },
  {
   "cell_type": "markdown",
   "metadata": {},
   "source": [
    "# Write a python program to calculate your Body Mass Index"
   ]
  },
  {
   "cell_type": "code",
   "execution_count": 6,
   "metadata": {},
   "outputs": [
    {
     "name": "stdout",
     "output_type": "stream",
     "text": [
      "Enter your weight in kg: 74\n",
      "Enter your height in metre: 1.65\n",
      "The BMI value is  27.181\n"
     ]
    }
   ],
   "source": [
    "f=1\n",
    "while f:\n",
    "    m = float(input(\"Enter your weight in kg: \"))\n",
    "    h = float(input(\"Enter your height in metre: \"))\n",
    "    if m>0 and h>0:\n",
    "        f=0\n",
    "    else:\n",
    "        print(\"Please enter Positive numbers \")\n",
    "def BMI(m,h):\n",
    "    value = round(m/(h**2),3)\n",
    "    print(\"The BMI value is \", value)\n",
    "BMI(m,h)\n",
    "        "
   ]
  },
  {
   "cell_type": "markdown",
   "metadata": {},
   "source": [
    "# Write a python program to calculate the natural logarithm of any number?"
   ]
  },
  {
   "cell_type": "code",
   "execution_count": 8,
   "metadata": {},
   "outputs": [
    {
     "name": "stdout",
     "output_type": "stream",
     "text": [
      "Enter no.of terms: -6\n",
      "Natural Logarithm is only defined for Positive number, So please enter a Positive number \n",
      "Enter no.of terms: 8\n",
      "The natural log of 8 is 2.079\n"
     ]
    }
   ],
   "source": [
    "f=1\n",
    "while f:\n",
    "    n = int(input(\"Enter no.of terms: \"))\n",
    "    if n>0:\n",
    "        f=0\n",
    "    else:\n",
    "        print(\"Natural Logarithm is only defined for Positive number, So please enter a Positive number \")\n",
    "def natural_log(n):\n",
    "    import math\n",
    "    print(\"The natural log of {} is\".format(n), round(math.log(n),3))\n",
    "natural_log(n)\n"
   ]
  },
  {
   "cell_type": "markdown",
   "metadata": {},
   "source": [
    "# Write a python program for cube sum of first n Natural numbers?"
   ]
  },
  {
   "cell_type": "code",
   "execution_count": 9,
   "metadata": {},
   "outputs": [
    {
     "name": "stdout",
     "output_type": "stream",
     "text": [
      "Enter no.of numbers: 10\n",
      "cubes of 10 natural numbers are  3025.0\n"
     ]
    }
   ],
   "source": [
    "n = int(input(\"Enter no.of numbers: \"))\n",
    "def cube_n(n):\n",
    "    sum= (n*(n+1))/2\n",
    "    print(\"cubes of {} natural numbers are \".format(n), sum**2)\n",
    "cube_n(n)\n"
   ]
  },
  {
   "cell_type": "code",
   "execution_count": null,
   "metadata": {},
   "outputs": [],
   "source": []
  }
 ],
 "metadata": {
  "kernelspec": {
   "display_name": "Python 3",
   "language": "python",
   "name": "python3"
  },
  "language_info": {
   "codemirror_mode": {
    "name": "ipython",
    "version": 3
   },
   "file_extension": ".py",
   "mimetype": "text/x-python",
   "name": "python",
   "nbconvert_exporter": "python",
   "pygments_lexer": "ipython3",
   "version": "3.8.3"
  },
  "toc": {
   "base_numbering": 1,
   "nav_menu": {},
   "number_sections": true,
   "sideBar": true,
   "skip_h1_title": false,
   "title_cell": "Table of Contents",
   "title_sidebar": "Contents",
   "toc_cell": false,
   "toc_position": {},
   "toc_section_display": true,
   "toc_window_display": false
  }
 },
 "nbformat": 4,
 "nbformat_minor": 4
}
