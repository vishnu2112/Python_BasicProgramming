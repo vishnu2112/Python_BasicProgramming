{
 "cells": [
  {
   "cell_type": "markdown",
   "metadata": {},
   "source": [
    "# Write a python program to find sum of array?"
   ]
  },
  {
   "cell_type": "code",
   "execution_count": 3,
   "metadata": {},
   "outputs": [
    {
     "name": "stdout",
     "output_type": "stream",
     "text": [
      "Enter any character to stop the inputs\n",
      "Enter a number: 4\n",
      "Enter a number: 5\n",
      "Enter a number: 8\n",
      "Enter a number: 10\n",
      "Enter a number: 134\n",
      "Enter a number: 76\n",
      "Enter a number: k\n",
      "This is our list [4, 5, 8, 10, 134, 76]\n",
      "Sum of array is  237\n"
     ]
    }
   ],
   "source": [
    "try:\n",
    "    l=[]\n",
    "    print(\"Enter any character to stop the inputs\")\n",
    "    while True:\n",
    "        l.append(int(input(\"Enter a number: \")))\n",
    "except:\n",
    "    print(\"This is our list\", l)\n",
    "import array as ar\n",
    "A = ar.array('i',l)\n",
    "def sum_array(A):\n",
    "    sum=0\n",
    "    for i in range(0,len(A)):\n",
    "        sum += A[i]\n",
    "    print(\"Sum of array is \", sum)\n",
    "sum_array(A)\n",
    "    "
   ]
  },
  {
   "cell_type": "markdown",
   "metadata": {},
   "source": [
    "# Write a python program to find largest element in an array?"
   ]
  },
  {
   "cell_type": "code",
   "execution_count": 5,
   "metadata": {},
   "outputs": [
    {
     "name": "stdout",
     "output_type": "stream",
     "text": [
      "Enter any character to stop the inputs\n",
      "Enter a number: 4\n",
      "Enter a number: 123\n",
      "Enter a number: 1\n",
      "Enter a number: 76\n",
      "Enter a number: 8765\n",
      "Enter a number: 4\n",
      "Enter a number: g\n",
      "This is our list [4, 123, 1, 76, 8765, 4]\n",
      "max element in the array is  8765\n"
     ]
    }
   ],
   "source": [
    "try:\n",
    "    l=[]\n",
    "    print(\"Enter any character to stop the inputs\")\n",
    "    while True:\n",
    "        l.append(int(input(\"Enter a number: \")))\n",
    "except:\n",
    "    print(\"This is our list\", l)\n",
    "import array as ar\n",
    "A = ar.array('i',l)\n",
    "def max_ele(A):\n",
    "    max=A[0]\n",
    "    for i in range(0,len(A)):\n",
    "        if A[i]>max:\n",
    "            max=A[i]\n",
    "    print(\"max element in the array is \", max)\n",
    "max_ele(A)"
   ]
  },
  {
   "cell_type": "markdown",
   "metadata": {},
   "source": [
    "# Write a python program for array rotation?"
   ]
  },
  {
   "cell_type": "code",
   "execution_count": 6,
   "metadata": {},
   "outputs": [
    {
     "name": "stdout",
     "output_type": "stream",
     "text": [
      "Enter any character to stop the inputs\n",
      "Enter a number: 6\n",
      "Enter a number: 4\n",
      "Enter a number: 7\n",
      "Enter a number: 98\n",
      "Enter a number: 12\n",
      "Enter a number: 45\n",
      "Enter a number: 3\n",
      "Enter a number: f\n",
      "This is our list [6, 4, 7, 98, 12, 45, 3]\n",
      "Array rotation by one step(left) is  array('i', [4, 7, 98, 12, 45, 3, 6])\n"
     ]
    }
   ],
   "source": [
    "try:\n",
    "    l=[]\n",
    "    print(\"Enter any character to stop the inputs\")\n",
    "    while True:\n",
    "        l.append(int(input(\"Enter a number: \")))\n",
    "except:\n",
    "    print(\"This is our list\", l)\n",
    "import array as ar\n",
    "A = ar.array('i',l)\n",
    "\n",
    "def rotate_array(A):\n",
    "    # rotate array by one step front(left)\n",
    "    f=A[0]\n",
    "    for i in range(0,len(A)-1):\n",
    "        A[i]=A[i+1]\n",
    "    A[len(A)-1]=f\n",
    "    print(\"Array rotation by one step(left) is \",A)\n",
    "rotate_array(A)\n",
    "    "
   ]
  },
  {
   "cell_type": "markdown",
   "metadata": {},
   "source": [
    "# Write a python program to split the array add the first part at the end?"
   ]
  },
  {
   "cell_type": "code",
   "execution_count": null,
   "metadata": {},
   "outputs": [
    {
     "name": "stdout",
     "output_type": "stream",
     "text": [
      "Enter any character to stop the inputs\n",
      "Enter a number: 4\n",
      "Enter a number: 6\n",
      "Enter a number: 12\n",
      "Enter a number: 19\n",
      "Enter a number: 100\n",
      "Enter a number: 5\n",
      "Enter a number: 2\n",
      "Enter a number: g\n",
      "This is our list [4, 6, 12, 19, 100, 5, 2]\n",
      "Enter the position to split the array: 11\n",
      "Size of the Array 7\n",
      "Please enter the position number which is less than the size of Array\n"
     ]
    }
   ],
   "source": [
    "try:\n",
    "    l=[]\n",
    "    print(\"Enter any character to stop the inputs\")\n",
    "    while True:\n",
    "        l.append(int(input(\"Enter a number: \")))\n",
    "except:\n",
    "    print(\"This is our list\", l)\n",
    "    \n",
    "import array as ar\n",
    "A = ar.array('i',l)\n",
    "\n",
    "while True:\n",
    "    n = int(input(\"Enter the position to split the array: \"))\n",
    "    if (n>len(A)):\n",
    "        print(\"Size of the Array\", len(A))\n",
    "        print(\"Please enter the position number which is less than the size of Array\")\n",
    "    else:\n",
    "        break\n",
    "        \n",
    "def split_and_add(A, n):\n",
    "    l1=[]\n",
    "    for i in range(0,len(A)-n):\n",
    "        if i<n:\n",
    "            l1.append(A[i])\n",
    "        A[i]=A[i+n]\n",
    "    j=0\n",
    "    for k in range(len(A)-n, len(A)):\n",
    "        A[k]=l1[j]\n",
    "        j+=1\n",
    "    print(\"Split the array at position {} and add the first part at the end \".format(n), A)\n",
    "            \n",
    "split_and_add(A,n)       \n",
    "    \n",
    "    "
   ]
  },
  {
   "cell_type": "markdown",
   "metadata": {},
   "source": [
    "# Write a python program to check if array is monotonic?"
   ]
  },
  {
   "cell_type": "code",
   "execution_count": 6,
   "metadata": {},
   "outputs": [
    {
     "name": "stdout",
     "output_type": "stream",
     "text": [
      "Enter any character to stop the inputs\n",
      "Enter a number: 2\n",
      "Enter a number: 4\n",
      "Enter a number: 6\n",
      "Enter a number: 8\n",
      "Enter a number: 9\n",
      "Enter a number: 10\n",
      "Enter a number: f\n",
      "This is our list [2, 4, 6, 8, 9, 10]\n",
      "The given array is monotonic(increasing)\n"
     ]
    }
   ],
   "source": [
    "try:\n",
    "    l=[]\n",
    "    print(\"Enter any character to stop the inputs\")\n",
    "    while True:\n",
    "        l.append(int(input(\"Enter a number: \")))\n",
    "except:\n",
    "    print(\"This is our list\", l)\n",
    "    \n",
    "import array as ar\n",
    "A = ar.array('i',l)\n",
    "\n",
    "def monotonic(A):\n",
    "    f1=True #increasing\n",
    "    f2=True #decreasing\n",
    "    for i in range(0,len(A)-1):\n",
    "        if A[i]<=A[i+1]:\n",
    "            pass\n",
    "        else:\n",
    "            f1=False\n",
    "            break\n",
    "    for i in range(0,len(A)-1):\n",
    "        if A[i]>=A[i+1]:\n",
    "            pass\n",
    "        else:\n",
    "            f2=False\n",
    "            break\n",
    "    if(f1):\n",
    "        print(\"The given array is monotonic(increasing)\")\n",
    "    elif(f2):\n",
    "        print(\"The given array is monotonic(decreasing)\")\n",
    "    else:\n",
    "        print(\"The given array is not monotonic\")\n",
    "\n",
    "monotonic(A)\n",
    "        \n",
    "            "
   ]
  }
 ],
 "metadata": {
  "kernelspec": {
   "display_name": "Python 3",
   "language": "python",
   "name": "python3"
  },
  "language_info": {
   "codemirror_mode": {
    "name": "ipython",
    "version": 3
   },
   "file_extension": ".py",
   "mimetype": "text/x-python",
   "name": "python",
   "nbconvert_exporter": "python",
   "pygments_lexer": "ipython3",
   "version": "3.8.3"
  },
  "toc": {
   "base_numbering": 1,
   "nav_menu": {},
   "number_sections": true,
   "sideBar": true,
   "skip_h1_title": false,
   "title_cell": "Table of Contents",
   "title_sidebar": "Contents",
   "toc_cell": false,
   "toc_position": {},
   "toc_section_display": true,
   "toc_window_display": false
  }
 },
 "nbformat": 4,
 "nbformat_minor": 4
}
